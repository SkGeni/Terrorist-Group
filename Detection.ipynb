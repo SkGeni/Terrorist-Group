{
 "cells": [
  {
   "cell_type": "code",
   "execution_count": 1,
   "metadata": {
    "collapsed": true
   },
   "outputs": [],
   "source": [
    "import pandas as pd\n",
    "import matplotlib.pyplot as plt\n",
    "import numpy as np\n",
    "import random\n",
    "from scipy import stats\n",
    "import time\n",
    "from sklearn.model_selection import train_test_split\n",
    "from sklearn.naive_bayes import GaussianNB, BernoulliNB, MultinomialNB\n",
    "from sklearn.metrics import accuracy_score as accu\n",
    "from sklearn.metrics import confusion_matrix as cm\n",
    "from sklearn.linear_model import SGDClassifier\n",
    "from sklearn.svm import SVC, LinearSVC\n"
   ]
  },
  {
   "cell_type": "code",
   "execution_count": 2,
   "metadata": {
    "collapsed": false
   },
   "outputs": [
    {
     "name": "stdout",
     "output_type": "stream",
     "text": [
      "              country  region  provstate_num  city_num   latitude   longitude  \\\n",
      "eventid                                                                         \n",
      "1.970000e+11       58       2           2622     29806  18.456792  -69.951164   \n",
      "1.970000e+11      130       1            782     22166  19.371887    9.086624   \n",
      "1.970000e+11      160       5           2497     34517  15.478598  120.599741   \n",
      "1.970000e+11       78       8            184      2513  37.997490   23.762728   \n",
      "1.970000e+11      101       4            808     11264  33.580412  130.396361   \n",
      "1.970000e+11      217       1           1014      6320  37.005105  -89.176269   \n",
      "1.970000e+11      218       3           1642     22706 -34.891151  -56.187214   \n",
      "1.970000e+11      217       1            439     24717  37.791927 -122.225906   \n",
      "1.970000e+11      217       1           2757     20324  43.076592  -89.412488   \n",
      "1.970000e+11      217       1           2757     20324  43.072950  -89.386694   \n",
      "1.970000e+11      217       1           2757      3887  43.468500  -89.744299   \n",
      "1.970000e+11      217       1            581      9076  39.758968 -104.876305   \n",
      "1.970000e+11       98       8           1375     28384  41.890961   12.490069   \n",
      "1.970000e+11      217       1           1596      9137  42.331685  -83.047924   \n",
      "1.970000e+11      217       1           2056     28268  18.386932  -66.061127   \n",
      "1.970000e+11      499       9            311      4701  52.501530   13.401851   \n",
      "1.970000e+11       65      11           2622     34517        NaN         NaN   \n",
      "1.970000e+11      217       1           1749     24144  40.697132  -73.931351   \n",
      "1.970000e+11      217       1           2056     28253  18.379998  -65.830948   \n",
      "1.970000e+11      217       1           2719     30201  47.610786 -122.331306   \n",
      "1.970000e+11      217       1           1014      7141  40.116748  -88.239270   \n",
      "1.970000e+11      218       3           1642     22706 -34.891151  -56.187214   \n",
      "1.970000e+11      217       1           2719     30201  47.610786 -122.331306   \n",
      "1.970000e+11      217       1           2719     30201  47.610786 -122.331306   \n",
      "1.970000e+11      217       1           1741     15021  40.717892  -74.067467   \n",
      "1.970000e+11       83       2            902     12577  14.622869    0.529068   \n",
      "1.970000e+11      160       5           1591     27538  14.674280  121.057495   \n",
      "1.970000e+11      222       3            457      6624  10.482834  -66.962128   \n",
      "1.970000e+11      217       1           1731     31704  42.470310    6.413949   \n",
      "1.970000e+11      217       1           1620     35555  33.606510  -88.650419   \n",
      "...               ...     ...            ...       ...        ...         ...   \n",
      "2.020000e+11      214       9           1222     16898  49.993500   36.230383   \n",
      "2.020000e+11       92       6            112     32519  17.001086   81.807490   \n",
      "2.020000e+11      160       5            646     32919   7.042777  126.449221   \n",
      "2.020000e+11       92       6           1211     17830  11.831902   75.565432   \n",
      "2.020000e+11      603       8           1822      4503  54.607712   -5.956210   \n",
      "2.020000e+11       92       6            531     33917  18.802725   81.497666   \n",
      "2.020000e+11      147      11            355     17802  11.492144   12.969724   \n",
      "2.020000e+11      200      10            637     13180  33.561504   36.368763   \n",
      "2.020000e+11       95      10           1258     30985  35.560376   44.524705   \n",
      "2.020000e+11       95      10            675     13363  33.816111   44.783524   \n",
      "2.020000e+11       95      10           2192     10965  34.031331   44.070106   \n",
      "2.020000e+11       92       6           1076     19481  33.966527   74.964225   \n",
      "2.020000e+11        4       6           1713     14694  34.417122   70.449593   \n",
      "2.020000e+11       95      10           1762      2791  36.045059   41.716717   \n",
      "2.020000e+11      182      11            232     22519   2.059819   45.326115   \n",
      "2.020000e+11        4       6           1415     22537  34.217806   69.109316   \n",
      "2.020000e+11      160       5           1479     19596   6.983953  124.420664   \n",
      "2.020000e+11      160       5           1787     26435   7.053143  124.619270   \n",
      "2.020000e+11       95      10            675     23156  33.953167   44.921906   \n",
      "2.020000e+11      182      11            220     35261   3.810951   43.246506   \n",
      "2.020000e+11      160       5           1479     30639   6.862806  124.443649   \n",
      "2.020000e+11       98       8           1524     31768  42.888982   13.772795   \n",
      "2.020000e+11        4       6            781     17675  35.315467   64.815508   \n",
      "2.020000e+11       92       6            167     13938  25.180162   93.015788   \n",
      "2.020000e+11        4       6            781     21809  35.921051   64.774544   \n",
      "2.020000e+11      182      11           1601      6849   2.359673   45.385034   \n",
      "2.020000e+11      200      10           1371     14575  35.407278   35.942679   \n",
      "2.020000e+11      160       5           1479     18159   6.900742  124.437908   \n",
      "2.020000e+11       92       6           1510     14206  24.798346   93.940430   \n",
      "2.020000e+11      160       5           1479      8185   7.209594  124.241966   \n",
      "\n",
      "              specificity  success  attacktype1  targtype1  targsubtype1  \\\n",
      "eventid                                                                    \n",
      "1.970000e+11          1.0        1            1         14          68.0   \n",
      "1.970000e+11          1.0        1            6          7          45.0   \n",
      "1.970000e+11          4.0        1            1         10          54.0   \n",
      "1.970000e+11          1.0        1            3          7          46.0   \n",
      "1.970000e+11          1.0        1            7          7          46.0   \n",
      "1.970000e+11          1.0        1            2          3          22.0   \n",
      "1.970000e+11          1.0        0            1          3          25.0   \n",
      "1.970000e+11          1.0        1            3         21         107.0   \n",
      "1.970000e+11          1.0        1            7          4          28.0   \n",
      "1.970000e+11          1.0        1            7          2          21.0   \n",
      "1.970000e+11          1.0        0            3          4          27.0   \n",
      "1.970000e+11          1.0        1            7          4          28.0   \n",
      "1.970000e+11          1.0        1            4          6          42.0   \n",
      "1.970000e+11          1.0        1            7          2          21.0   \n",
      "1.970000e+11          1.0        1            7          1           7.0   \n",
      "1.970000e+11          1.0        1            3          2           NaN   \n",
      "1.970000e+11          5.0        1            9          4          34.0   \n",
      "1.970000e+11          1.0        1            3          8          49.0   \n",
      "1.970000e+11          1.0        1            3          1           4.0   \n",
      "1.970000e+11          1.0        1            7          1           7.0   \n",
      "1.970000e+11          1.0        1            7          3          22.0   \n",
      "1.970000e+11          1.0        1            2          8          49.0   \n",
      "1.970000e+11          1.0        1            3          8          49.0   \n",
      "1.970000e+11          1.0        0            3          4          28.0   \n",
      "1.970000e+11          1.0        1            7         22         110.0   \n",
      "1.970000e+11          1.0        1            1          7          46.0   \n",
      "1.970000e+11          1.0        1            3          7          46.0   \n",
      "1.970000e+11          1.0        1            6          1           7.0   \n",
      "1.970000e+11          1.0        1            3         14          76.0   \n",
      "1.970000e+11          1.0        1            7         14          71.0   \n",
      "...                   ...      ...          ...        ...           ...   \n",
      "2.020000e+11          1.0        1            5          2          21.0   \n",
      "2.020000e+11          2.0        1            7         15          86.0   \n",
      "2.020000e+11          1.0        1            3          4          34.0   \n",
      "2.020000e+11          1.0        1            3          3          22.0   \n",
      "2.020000e+11          1.0        1            2         14          67.0   \n",
      "2.020000e+11          1.0        1            7          1          12.0   \n",
      "2.020000e+11          3.0        1            7         14          73.0   \n",
      "2.020000e+11          1.0        1            3          4          27.0   \n",
      "2.020000e+11          1.0        1            3          4          29.0   \n",
      "2.020000e+11          2.0        1            9          3          22.0   \n",
      "2.020000e+11          1.0        1            3         14          67.0   \n",
      "2.020000e+11          1.0        1            2          3          22.0   \n",
      "2.020000e+11          1.0        1            3         14          78.0   \n",
      "2.020000e+11          1.0        0            9          4          39.0   \n",
      "2.020000e+11          1.0        1            3          4          29.0   \n",
      "2.020000e+11          3.0        1            3          3          23.0   \n",
      "2.020000e+11          2.0        1            7         14          75.0   \n",
      "2.020000e+11          3.0        1            3          1           7.0   \n",
      "2.020000e+11          1.0        0            2          4          27.0   \n",
      "2.020000e+11          1.0        1            3          4          27.0   \n",
      "2.020000e+11          1.0        1            3          3          23.0   \n",
      "2.020000e+11          1.0        1            7         14          65.0   \n",
      "2.020000e+11          3.0        1            2         17          94.0   \n",
      "2.020000e+11          2.0        1            6          2          15.0   \n",
      "2.020000e+11          1.0        1            3          1           7.0   \n",
      "2.020000e+11          2.0        1            2          4          36.0   \n",
      "2.020000e+11          1.0        1            3          4          27.0   \n",
      "2.020000e+11          2.0        1            7         14          76.0   \n",
      "2.020000e+11          1.0        0            3          2          21.0   \n",
      "2.020000e+11          1.0        0            3         20           NaN   \n",
      "\n",
      "              natlty1  gname_num  weaptype1  property    weight  \n",
      "eventid                                                          \n",
      "1.970000e+11     58.0       1909         13       0.0  0.000006  \n",
      "1.970000e+11     21.0         16         13       0.0  0.000012  \n",
      "1.970000e+11    217.0       3408         13       0.0  0.000018  \n",
      "1.970000e+11    217.0       3408          6       1.0  0.000024  \n",
      "1.970000e+11    217.0       3408          8       1.0  0.000029  \n",
      "1.970000e+11    217.0        683          5       1.0  0.000035  \n",
      "1.970000e+11    218.0       3280          5       0.0  0.000041  \n",
      "1.970000e+11    217.0       3408          6       1.0  0.000047  \n",
      "1.970000e+11    217.0       2272          8       1.0  0.000053  \n",
      "1.970000e+11    217.0       2272          8       1.0  0.000059  \n",
      "1.970000e+11    217.0       3443          6       0.0  0.000065  \n",
      "1.970000e+11    217.0       1846          8       1.0  0.000071  \n",
      "1.970000e+11    217.0       3408          5       0.0  0.000077  \n",
      "1.970000e+11    217.0       1846          8       1.0  0.000082  \n",
      "1.970000e+11    217.0        444          8       1.0  0.000088  \n",
      "1.970000e+11     75.0        867          6       0.0  0.000094  \n",
      "1.970000e+11    217.0       1093         13       0.0  0.000100  \n",
      "1.970000e+11    217.0        683          6       1.0  0.000106  \n",
      "1.970000e+11    217.0       3042          6       1.0  0.000112  \n",
      "1.970000e+11    217.0        683          8       1.0  0.000118  \n",
      "1.970000e+11    217.0        683          8       1.0  0.000124  \n",
      "1.970000e+11    218.0       3280          5       1.0  0.000130  \n",
      "1.970000e+11    217.0        683          6       1.0  0.000136  \n",
      "1.970000e+11    217.0       3049          6       0.0  0.000141  \n",
      "1.970000e+11    217.0       3460          8       1.0  0.000147  \n",
      "1.970000e+11    216.0       3408         13       0.0  0.000153  \n",
      "1.970000e+11    217.0       3408          6       1.0  0.000159  \n",
      "1.970000e+11    222.0        459         13       0.0  0.000165  \n",
      "1.970000e+11    217.0       3042          6       1.0  0.000171  \n",
      "1.970000e+11    217.0       3460          8       1.0  0.000177  \n",
      "...               ...        ...        ...       ...       ...  \n",
      "2.020000e+11    214.0       3408          6       0.0  0.999829  \n",
      "2.020000e+11     92.0       3408          8       1.0  0.999835  \n",
      "2.020000e+11    160.0       2267          6       0.0  0.999841  \n",
      "2.020000e+11     92.0       3408          6       0.0  0.999847  \n",
      "2.020000e+11    233.0       3408          5       0.0  0.999853  \n",
      "2.020000e+11     92.0        891          5       1.0  0.999859  \n",
      "2.020000e+11    147.0        707         13       1.0  0.999864  \n",
      "2.020000e+11    200.0       1367          6       0.0  0.999870  \n",
      "2.020000e+11     95.0       3408          6       0.0  0.999876  \n",
      "2.020000e+11     95.0       1538         13       0.0  0.999882  \n",
      "2.020000e+11     95.0       1538          6       0.0  0.999888  \n",
      "2.020000e+11     92.0       1584          6       0.0  0.999894  \n",
      "2.020000e+11      4.0       1744          6       0.0  0.999900  \n",
      "2.020000e+11     95.0       1538         13       0.0  0.999906  \n",
      "2.020000e+11    422.0        180          6       1.0  0.999912  \n",
      "2.020000e+11      4.0       3138          6       1.0  0.999918  \n",
      "2.020000e+11    160.0        604          5       1.0  0.999923  \n",
      "2.020000e+11    160.0       3408          6       0.0  0.999929  \n",
      "2.020000e+11     95.0       1538          5       0.0  0.999935  \n",
      "2.020000e+11    422.0        180          6       0.0  0.999941  \n",
      "2.020000e+11    160.0        604          6       1.0  0.999947  \n",
      "2.020000e+11     98.0       3408          8       1.0  0.999953  \n",
      "2.020000e+11      4.0       3138          5       0.0  0.999959  \n",
      "2.020000e+11     92.0       3518          5       0.0  0.999965  \n",
      "2.020000e+11      4.0       3408          6       1.0  0.999971  \n",
      "2.020000e+11    182.0        180          5       7.0  0.999976  \n",
      "2.020000e+11    167.0       2139          6       1.0  0.999982  \n",
      "2.020000e+11    160.0        604          8       1.0  0.999988  \n",
      "2.020000e+11     92.0       3408          6       0.0  0.999994  \n",
      "2.020000e+11    160.0       3408          6       0.0  1.000000  \n",
      "\n",
      "[169732 rows x 16 columns]\n"
     ]
    }
   ],
   "source": [
    "df = pd.read_csv('gtd_cleaned.csv', sep=',', index_col=0, engine='python',parse_dates=True, encoding=None, tupleize_cols=None, infer_datetime_format=False)\n",
    "df = df.drop_duplicates().drop(columns = ['iyear','imonth','iday','country_txt','region_txt','provstate','city','attacktype1_txt','targtype1_txt','targsubtype1_txt','target1','natlty1_txt','gname','weaptype1_txt'])\n",
    "weight = random.sample(range(1,169733),169732)\n",
    "weight = sorted(np.divide(weight,169732))\n",
    "df ['weight'] = weight\n",
    "print(df)"
   ]
  },
  {
   "cell_type": "code",
   "execution_count": 3,
   "metadata": {
    "collapsed": false
   },
   "outputs": [],
   "source": [
    "df = df.dropna()"
   ]
  },
  {
   "cell_type": "code",
   "execution_count": 12,
   "metadata": {
    "collapsed": false
   },
   "outputs": [],
   "source": [
    "X_train, X_test = train_test_split(df, test_size=0.7, random_state=int(time.time()))"
   ]
  },
  {
   "cell_type": "code",
   "execution_count": 13,
   "metadata": {
    "collapsed": false
   },
   "outputs": [
    {
     "data": {
      "text/plain": [
       "0.92060399860981545"
      ]
     },
     "execution_count": 13,
     "metadata": {},
     "output_type": "execute_result"
    }
   ],
   "source": [
    "gnb = GaussianNB()\n",
    "gnb.fit(X_train.values,X_train['gname_num'])\n",
    "y_pred = gnb.predict(X_test)\n",
    "accu(X_test['gname_num'],y_pred)"
   ]
  },
  {
   "cell_type": "code",
   "execution_count": 14,
   "metadata": {
    "collapsed": false
   },
   "outputs": [
    {
     "data": {
      "text/plain": [
       "0.92257037809361797"
      ]
     },
     "execution_count": 14,
     "metadata": {},
     "output_type": "execute_result"
    }
   ],
   "source": [
    "import pandas as pd\n",
    "import matplotlib.pyplot as plt\n",
    "import numpy as np\n",
    "import random\n",
    "from scipy import stats\n",
    "import time\n",
    "from sklearn.model_selection import train_test_split\n",
    "from sklearn.naive_bayes import GaussianNB, BernoulliNB, MultinomialNB\n",
    "from sklearn.metrics import accuracy_score as accu\n",
    "from sklearn.metrics import confusion_matrix as cm\n",
    "from sklearn.linear_model import SGDClassifier\n",
    "from sklearn.svm import SVC, LinearSVC\n",
    "\n",
    "\n",
    "df = pd.read_csv('gtd_cleaned.csv', sep=',', index_col=0, engine='python',parse_dates=True, encoding=None, tupleize_cols=None, infer_datetime_format=False)\n",
    "df = df.drop_duplicates().drop(columns = ['iyear','imonth','iday','country_txt','region_txt','provstate','city','attacktype1_txt','targtype1_txt','targsubtype1_txt','target1','natlty1_txt','gname','weaptype1_txt'])\n",
    "weight = random.sample(range(1,169733),169732)\n",
    "weight = sorted(np.divide(weight,169732))\n",
    "df ['weight'] = weight\n",
    "\n",
    "df = df.dropna()\n",
    "\n",
    "X_train, X_test = train_test_split(df, test_size=0.7, random_state=int(time.time()))\n",
    "\n",
    "gnb = GaussianNB()\n",
    "gnb.fit(X_train.values,X_train['gname_num'])\n",
    "y_pred = gnb.predict(X_test)\n",
    "accu(X_test['gname_num'],y_pred)"
   ]
  },
  {
   "cell_type": "code",
   "execution_count": null,
   "metadata": {
    "collapsed": false
   },
   "outputs": [],
   "source": [
    "plt.plot(range(1,109339),X_test['gname_num'],'r',y_pred,'g')\n",
    "plt.show()"
   ]
  },
  {
   "cell_type": "code",
   "execution_count": null,
   "metadata": {
    "collapsed": false
   },
   "outputs": [],
   "source": [
    "con_mat = cm(X_test['gname_num'],y_pred)\n",
    "print(con_mat)\n",
    "plt.imshow(con_mat, interpolation='nearest', cmap=plt.cm.Blues)\n",
    "plt.colorbar()\n",
    "plt.show()"
   ]
  },
  {
   "cell_type": "code",
   "execution_count": null,
   "metadata": {
    "collapsed": false
   },
   "outputs": [],
   "source": [
    "print(\"Number of mislabeled points out of a total {} points : {}, performance {:05.2f}%\"\n",
    "      .format(\n",
    "          X_test.shape[0],\n",
    "          (X_test[\"gname_num\"] != y_pred).sum(),\n",
    "          100*(1-(X_test[\"gname_num\"] != y_pred).sum()/X_test.shape[0])\n",
    "))"
   ]
  },
  {
   "cell_type": "code",
   "execution_count": null,
   "metadata": {
    "collapsed": false
   },
   "outputs": [],
   "source": [
    "m_df = df.drop(columns=['latitude','longitude'])\n",
    "X_train, X_test = train_test_split(m_df, test_size=0.7, random_state=int(time.time()))\n",
    "mnb = MultinomialNB()\n",
    "mnb.fit(X_train.values,X_train['gname_num'])\n",
    "y_pred = mnb.predict(X_test)\n",
    "accu(X_test['gname_num'],y_pred)"
   ]
  },
  {
   "cell_type": "code",
   "execution_count": null,
   "metadata": {
    "collapsed": false
   },
   "outputs": [],
   "source": [
    "svm =SGDClassifier()\n",
    "svm.fit(X_train.values,X_train['gname_num'])\n",
    "y_pred = svm.predict(X_test)\n",
    "accu(X_test['gname_num'],y_pred)"
   ]
  },
  {
   "cell_type": "code",
   "execution_count": null,
   "metadata": {
    "collapsed": false
   },
   "outputs": [],
   "source": [
    "bnb = BernoulliNB()\n",
    "bnb.fit(X_train.values,X_train['gname_num'])\n",
    "y_pred = bnb.predict(X_test)\n",
    "accu(X_test['gname_num'],y_pred)"
   ]
  },
  {
   "cell_type": "code",
   "execution_count": null,
   "metadata": {
    "collapsed": false
   },
   "outputs": [],
   "source": [
    "svc = SVC()\n",
    "svc.fit(X_train.values,X_train['gname_num'])\n",
    "y_pred = svc.predict(X_test)\n",
    "accu(X_test['gname_num'],y_pred)"
   ]
  },
  {
   "cell_type": "code",
   "execution_count": null,
   "metadata": {
    "collapsed": true
   },
   "outputs": [],
   "source": []
  }
 ],
 "metadata": {
  "anaconda-cloud": {},
  "kernelspec": {
   "display_name": "Python [Anaconda3]",
   "language": "python",
   "name": "Python [Anaconda3]"
  },
  "language_info": {
   "codemirror_mode": {
    "name": "ipython",
    "version": 3
   },
   "file_extension": ".py",
   "mimetype": "text/x-python",
   "name": "python",
   "nbconvert_exporter": "python",
   "pygments_lexer": "ipython3",
   "version": "3.5.2"
  }
 },
 "nbformat": 4,
 "nbformat_minor": 0
}
